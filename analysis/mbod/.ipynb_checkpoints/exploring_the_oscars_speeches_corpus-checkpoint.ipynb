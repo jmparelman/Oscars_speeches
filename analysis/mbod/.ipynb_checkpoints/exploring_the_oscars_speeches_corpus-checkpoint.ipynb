{
 "cells": [
  {
   "cell_type": "markdown",
   "metadata": {},
   "source": [
    "# Some initial explorations of the _Oscars speeches_\n",
    "\n",
    "* Speeches collected from  http://aaspeechesdb.oscars.org/ by @jmparelman (see https://github.com/jmparelman/Oscars_speeches)\n",
    "\n",
    "----\n",
    "\n",
    "#### HISTORY\n",
    "\n",
    "* 2/24/19 @mbod - initial explorations"
   ]
  },
  {
   "cell_type": "code",
   "execution_count": 93,
   "metadata": {
    "collapsed": false
   },
   "outputs": [],
   "source": [
    "%matplotlib inline\n",
    "\n",
    "import matplotlib.pyplot as plt\n",
    "import pandas as pd\n",
    "\n",
    "from collections import Counter\n",
    "\n",
    "import math\n",
    "\n",
    "import graphviz\n",
    "import networkx as nx\n"
   ]
  },
  {
   "cell_type": "code",
   "execution_count": 94,
   "metadata": {
    "collapsed": false
   },
   "outputs": [],
   "source": [
    "plt.style.use('ggplot')"
   ]
  },
  {
   "cell_type": "markdown",
   "metadata": {},
   "source": [
    "## Load and examine data"
   ]
  },
  {
   "cell_type": "code",
   "execution_count": 2,
   "metadata": {
    "collapsed": false
   },
   "outputs": [],
   "source": [
    "df = pd.read_csv('../../Speeches.csv')"
   ]
  },
  {
   "cell_type": "code",
   "execution_count": 3,
   "metadata": {
    "collapsed": false
   },
   "outputs": [
    {
     "data": {
      "text/plain": [
       "(1203, 5)"
      ]
     },
     "execution_count": 3,
     "metadata": {},
     "output_type": "execute_result"
    }
   ],
   "source": [
    "df.shape"
   ]
  },
  {
   "cell_type": "markdown",
   "metadata": {},
   "source": [
    "* Find awards for which there is no speech captured in data frame"
   ]
  },
  {
   "cell_type": "code",
   "execution_count": 68,
   "metadata": {
    "collapsed": true
   },
   "outputs": [],
   "source": [
    "speech_missing=(pd.isnull(df.Speech)) | (df.Speech=='')"
   ]
  },
  {
   "cell_type": "code",
   "execution_count": 72,
   "metadata": {
    "collapsed": false
   },
   "outputs": [
    {
     "name": "stdout",
     "output_type": "stream",
     "text": [
      "47 awards are missing speeches\n"
     ]
    }
   ],
   "source": [
    "print('{} awards are missing speeches'.format(sum(speech_missing)))"
   ]
  },
  {
   "cell_type": "code",
   "execution_count": 73,
   "metadata": {
    "collapsed": false
   },
   "outputs": [
    {
     "data": {
      "text/html": [
       "<div>\n",
       "<table border=\"1\" class=\"dataframe\">\n",
       "  <thead>\n",
       "    <tr style=\"text-align: right;\">\n",
       "      <th></th>\n",
       "      <th>Category</th>\n",
       "      <th>Film Title</th>\n",
       "      <th>Speech</th>\n",
       "      <th>Winner</th>\n",
       "      <th>Year</th>\n",
       "      <th>tokens</th>\n",
       "    </tr>\n",
       "  </thead>\n",
       "  <tbody>\n",
       "    <tr>\n",
       "      <th>10</th>\n",
       "      <td>Sound</td>\n",
       "      <td>Oliver!</td>\n",
       "      <td>NaN</td>\n",
       "      <td>Shepperton Studio Sound Department</td>\n",
       "      <td>1968 (41st) Academy Awards</td>\n",
       "      <td>None</td>\n",
       "    </tr>\n",
       "    <tr>\n",
       "      <th>33</th>\n",
       "      <td>NaN</td>\n",
       "      <td>NaN</td>\n",
       "      <td>NaN</td>\n",
       "      <td>NaN</td>\n",
       "      <td>NaN</td>\n",
       "      <td>None</td>\n",
       "    </tr>\n",
       "    <tr>\n",
       "      <th>37</th>\n",
       "      <td>NaN</td>\n",
       "      <td>NaN</td>\n",
       "      <td>NaN</td>\n",
       "      <td>NaN</td>\n",
       "      <td>NaN</td>\n",
       "      <td>None</td>\n",
       "    </tr>\n",
       "    <tr>\n",
       "      <th>82</th>\n",
       "      <td>NaN</td>\n",
       "      <td>NaN</td>\n",
       "      <td>NaN</td>\n",
       "      <td>NaN</td>\n",
       "      <td>NaN</td>\n",
       "      <td>None</td>\n",
       "    </tr>\n",
       "    <tr>\n",
       "      <th>161</th>\n",
       "      <td>NaN</td>\n",
       "      <td>NaN</td>\n",
       "      <td>NaN</td>\n",
       "      <td>NaN</td>\n",
       "      <td>NaN</td>\n",
       "      <td>None</td>\n",
       "    </tr>\n",
       "    <tr>\n",
       "      <th>169</th>\n",
       "      <td>Writing (Original Screenplay)</td>\n",
       "      <td>Midnight in Paris</td>\n",
       "      <td>NaN</td>\n",
       "      <td>Written by Woody Allen</td>\n",
       "      <td>2011 (84th) Academy Awards</td>\n",
       "      <td>None</td>\n",
       "    </tr>\n",
       "    <tr>\n",
       "      <th>235</th>\n",
       "      <td>Writing (Screenplay Written Directly for the ...</td>\n",
       "      <td>Hannah and Her Sisters</td>\n",
       "      <td>NaN</td>\n",
       "      <td>Woody Allen</td>\n",
       "      <td>1986 (59th) Academy Awards</td>\n",
       "      <td>None</td>\n",
       "    </tr>\n",
       "    <tr>\n",
       "      <th>272</th>\n",
       "      <td>Special Visual Effects</td>\n",
       "      <td>2001: A Space Odyssey</td>\n",
       "      <td>NaN</td>\n",
       "      <td>Stanley Kubrick</td>\n",
       "      <td>1968 (41st) Academy Awards</td>\n",
       "      <td>None</td>\n",
       "    </tr>\n",
       "    <tr>\n",
       "      <th>279</th>\n",
       "      <td>NaN</td>\n",
       "      <td>NaN</td>\n",
       "      <td>NaN</td>\n",
       "      <td>NaN</td>\n",
       "      <td>NaN</td>\n",
       "      <td>None</td>\n",
       "    </tr>\n",
       "    <tr>\n",
       "      <th>288</th>\n",
       "      <td>Visual Effects</td>\n",
       "      <td>Jurassic Park</td>\n",
       "      <td>NaN</td>\n",
       "      <td>Dennis Muren, Stan Winston, Phil Tippett, Mic...</td>\n",
       "      <td>1993 (66th) Academy Awards</td>\n",
       "      <td>None</td>\n",
       "    </tr>\n",
       "    <tr>\n",
       "      <th>299</th>\n",
       "      <td>NaN</td>\n",
       "      <td>NaN</td>\n",
       "      <td>NaN</td>\n",
       "      <td>NaN</td>\n",
       "      <td>NaN</td>\n",
       "      <td>None</td>\n",
       "    </tr>\n",
       "    <tr>\n",
       "      <th>362</th>\n",
       "      <td>NaN</td>\n",
       "      <td>NaN</td>\n",
       "      <td>NaN</td>\n",
       "      <td>NaN</td>\n",
       "      <td>NaN</td>\n",
       "      <td>None</td>\n",
       "    </tr>\n",
       "    <tr>\n",
       "      <th>417</th>\n",
       "      <td>Actor in a Supporting Role</td>\n",
       "      <td>Julia</td>\n",
       "      <td>NaN</td>\n",
       "      <td>Jason Robards</td>\n",
       "      <td>1977 (50th) Academy Awards</td>\n",
       "      <td>None</td>\n",
       "    </tr>\n",
       "    <tr>\n",
       "      <th>419</th>\n",
       "      <td>NaN</td>\n",
       "      <td>NaN</td>\n",
       "      <td>NaN</td>\n",
       "      <td>NaN</td>\n",
       "      <td>NaN</td>\n",
       "      <td>None</td>\n",
       "    </tr>\n",
       "    <tr>\n",
       "      <th>421</th>\n",
       "      <td>Actor in a Supporting Role</td>\n",
       "      <td>Arthur</td>\n",
       "      <td>NaN</td>\n",
       "      <td>John Gielgud</td>\n",
       "      <td>1981 (54th) Academy Awards</td>\n",
       "      <td>None</td>\n",
       "    </tr>\n",
       "    <tr>\n",
       "      <th>426</th>\n",
       "      <td>Actor in a Supporting Role</td>\n",
       "      <td>Hannah and Her Sisters</td>\n",
       "      <td>NaN</td>\n",
       "      <td>Michael Caine</td>\n",
       "      <td>1986 (59th) Academy Awards</td>\n",
       "      <td>None</td>\n",
       "    </tr>\n",
       "    <tr>\n",
       "      <th>472</th>\n",
       "      <td>NaN</td>\n",
       "      <td>NaN</td>\n",
       "      <td>NaN</td>\n",
       "      <td>NaN</td>\n",
       "      <td>NaN</td>\n",
       "      <td>None</td>\n",
       "    </tr>\n",
       "    <tr>\n",
       "      <th>477</th>\n",
       "      <td>Film Editing</td>\n",
       "      <td>The Towering Inferno</td>\n",
       "      <td>NaN</td>\n",
       "      <td>Harold F. Kress, Carl Kress</td>\n",
       "      <td>1974 (47th) Academy Awards</td>\n",
       "      <td>None</td>\n",
       "    </tr>\n",
       "    <tr>\n",
       "      <th>488</th>\n",
       "      <td>Film Editing</td>\n",
       "      <td>Witness</td>\n",
       "      <td>NaN</td>\n",
       "      <td>Thom Noble</td>\n",
       "      <td>1985 (58th) Academy Awards</td>\n",
       "      <td>None</td>\n",
       "    </tr>\n",
       "    <tr>\n",
       "      <th>493</th>\n",
       "      <td>NaN</td>\n",
       "      <td>NaN</td>\n",
       "      <td>NaN</td>\n",
       "      <td>NaN</td>\n",
       "      <td>NaN</td>\n",
       "      <td>None</td>\n",
       "    </tr>\n",
       "    <tr>\n",
       "      <th>601</th>\n",
       "      <td>Actress in a Leading Role</td>\n",
       "      <td>On Golden Pond</td>\n",
       "      <td>NaN</td>\n",
       "      <td>Katharine Hepburn</td>\n",
       "      <td>1981 (54th) Academy Awards</td>\n",
       "      <td>None</td>\n",
       "    </tr>\n",
       "    <tr>\n",
       "      <th>697</th>\n",
       "      <td>NaN</td>\n",
       "      <td>NaN</td>\n",
       "      <td>NaN</td>\n",
       "      <td>NaN</td>\n",
       "      <td>NaN</td>\n",
       "      <td>None</td>\n",
       "    </tr>\n",
       "    <tr>\n",
       "      <th>716</th>\n",
       "      <td>Costume Design</td>\n",
       "      <td>Romeo and Juliet</td>\n",
       "      <td>NaN</td>\n",
       "      <td>Danilo Donati</td>\n",
       "      <td>1968 (41st) Academy Awards</td>\n",
       "      <td>None</td>\n",
       "    </tr>\n",
       "    <tr>\n",
       "      <th>724</th>\n",
       "      <td>Costume Design</td>\n",
       "      <td>Fellini's Casanova</td>\n",
       "      <td>NaN</td>\n",
       "      <td>Danilo Donati</td>\n",
       "      <td>1976 (49th) Academy Awards</td>\n",
       "      <td>None</td>\n",
       "    </tr>\n",
       "    <tr>\n",
       "      <th>731</th>\n",
       "      <td>Costume Design</td>\n",
       "      <td>Fanny &amp;amp; Alexander</td>\n",
       "      <td>NaN</td>\n",
       "      <td>Marik Vos</td>\n",
       "      <td>1983 (56th) Academy Awards</td>\n",
       "      <td>None</td>\n",
       "    </tr>\n",
       "    <tr>\n",
       "      <th>784</th>\n",
       "      <td>Cinematography</td>\n",
       "      <td>The Killing Fields</td>\n",
       "      <td>NaN</td>\n",
       "      <td>Chris Menges</td>\n",
       "      <td>1984 (57th) Academy Awards</td>\n",
       "      <td>None</td>\n",
       "    </tr>\n",
       "    <tr>\n",
       "      <th>791</th>\n",
       "      <td>Cinematography</td>\n",
       "      <td>JFK</td>\n",
       "      <td>NaN</td>\n",
       "      <td>Robert Richardson</td>\n",
       "      <td>1991 (64th) Academy Awards</td>\n",
       "      <td>None</td>\n",
       "    </tr>\n",
       "    <tr>\n",
       "      <th>832</th>\n",
       "      <td>Documentary (Feature)</td>\n",
       "      <td>Journey into Self</td>\n",
       "      <td>NaN</td>\n",
       "      <td>Bill McGaw, Producer</td>\n",
       "      <td>1968 (41st) Academy Awards</td>\n",
       "      <td>None</td>\n",
       "    </tr>\n",
       "    <tr>\n",
       "      <th>885</th>\n",
       "      <td>NaN</td>\n",
       "      <td>NaN</td>\n",
       "      <td>NaN</td>\n",
       "      <td>NaN</td>\n",
       "      <td>NaN</td>\n",
       "      <td>None</td>\n",
       "    </tr>\n",
       "    <tr>\n",
       "      <th>902</th>\n",
       "      <td>Documentary (Short Subject)</td>\n",
       "      <td>This Tiny World</td>\n",
       "      <td>NaN</td>\n",
       "      <td>Charles Huguenot van der Linden and Martina H...</td>\n",
       "      <td>1972 (45th) Academy Awards</td>\n",
       "      <td>None</td>\n",
       "    </tr>\n",
       "    <tr>\n",
       "      <th>916</th>\n",
       "      <td>NaN</td>\n",
       "      <td>NaN</td>\n",
       "      <td>NaN</td>\n",
       "      <td>NaN</td>\n",
       "      <td>NaN</td>\n",
       "      <td>None</td>\n",
       "    </tr>\n",
       "    <tr>\n",
       "      <th>925</th>\n",
       "      <td>NaN</td>\n",
       "      <td>NaN</td>\n",
       "      <td>NaN</td>\n",
       "      <td>NaN</td>\n",
       "      <td>NaN</td>\n",
       "      <td>None</td>\n",
       "    </tr>\n",
       "    <tr>\n",
       "      <th>980</th>\n",
       "      <td>Directing</td>\n",
       "      <td>Annie Hall</td>\n",
       "      <td>NaN</td>\n",
       "      <td>Woody Allen</td>\n",
       "      <td>1977 (50th) Academy Awards</td>\n",
       "      <td>None</td>\n",
       "    </tr>\n",
       "    <tr>\n",
       "      <th>997</th>\n",
       "      <td>NaN</td>\n",
       "      <td>NaN</td>\n",
       "      <td>NaN</td>\n",
       "      <td>NaN</td>\n",
       "      <td>NaN</td>\n",
       "      <td>None</td>\n",
       "    </tr>\n",
       "    <tr>\n",
       "      <th>999</th>\n",
       "      <td>NaN</td>\n",
       "      <td>NaN</td>\n",
       "      <td>NaN</td>\n",
       "      <td>NaN</td>\n",
       "      <td>NaN</td>\n",
       "      <td>None</td>\n",
       "    </tr>\n",
       "    <tr>\n",
       "      <th>1005</th>\n",
       "      <td>Directing</td>\n",
       "      <td>The Pianist</td>\n",
       "      <td>NaN</td>\n",
       "      <td>Roman Polanski</td>\n",
       "      <td>2002 (75th) Academy Awards</td>\n",
       "      <td>None</td>\n",
       "    </tr>\n",
       "    <tr>\n",
       "      <th>1006</th>\n",
       "      <td>NaN</td>\n",
       "      <td>NaN</td>\n",
       "      <td>NaN</td>\n",
       "      <td>NaN</td>\n",
       "      <td>NaN</td>\n",
       "      <td>None</td>\n",
       "    </tr>\n",
       "    <tr>\n",
       "      <th>1041</th>\n",
       "      <td>Music (Song)</td>\n",
       "      <td>Never on Sunday</td>\n",
       "      <td>NaN</td>\n",
       "      <td>Music and Lyrics by Manos Hadjidakis</td>\n",
       "      <td>1960 (33rd) Academy Awards</td>\n",
       "      <td>None</td>\n",
       "    </tr>\n",
       "    <tr>\n",
       "      <th>1063</th>\n",
       "      <td>Music (Original Score--for a motion picture [...</td>\n",
       "      <td>The Lion in Winter</td>\n",
       "      <td>NaN</td>\n",
       "      <td>John Barry</td>\n",
       "      <td>1968 (41st) Academy Awards</td>\n",
       "      <td>None</td>\n",
       "    </tr>\n",
       "    <tr>\n",
       "      <th>1074</th>\n",
       "      <td>Music (Original Score)</td>\n",
       "      <td>A Little Romance</td>\n",
       "      <td>NaN</td>\n",
       "      <td>Georges Delerue</td>\n",
       "      <td>1979 (52nd) Academy Awards</td>\n",
       "      <td>None</td>\n",
       "    </tr>\n",
       "    <tr>\n",
       "      <th>1076</th>\n",
       "      <td>Music (Original Score)</td>\n",
       "      <td>Chariots of Fire</td>\n",
       "      <td>NaN</td>\n",
       "      <td>Vangelis</td>\n",
       "      <td>1981 (54th) Academy Awards</td>\n",
       "      <td>None</td>\n",
       "    </tr>\n",
       "    <tr>\n",
       "      <th>1083</th>\n",
       "      <td>Music (Original Score)</td>\n",
       "      <td>The Milagro Beanfield War</td>\n",
       "      <td>NaN</td>\n",
       "      <td>Dave Grusin</td>\n",
       "      <td>1988 (61st) Academy Awards</td>\n",
       "      <td>None</td>\n",
       "    </tr>\n",
       "    <tr>\n",
       "      <th>1116</th>\n",
       "      <td>NaN</td>\n",
       "      <td>NaN</td>\n",
       "      <td>NaN</td>\n",
       "      <td>NaN</td>\n",
       "      <td>NaN</td>\n",
       "      <td>None</td>\n",
       "    </tr>\n",
       "    <tr>\n",
       "      <th>1139</th>\n",
       "      <td>Music (Original Song)</td>\n",
       "      <td>Dick Tracy</td>\n",
       "      <td>NaN</td>\n",
       "      <td>Music and Lyric by Stephen Sondheim</td>\n",
       "      <td>1990 (63rd) Academy Awards</td>\n",
       "      <td>None</td>\n",
       "    </tr>\n",
       "    <tr>\n",
       "      <th>1147</th>\n",
       "      <td>Music (Original Song)</td>\n",
       "      <td>The Prince of Egypt</td>\n",
       "      <td>NaN</td>\n",
       "      <td>Music and Lyric by Stephen Schwartz</td>\n",
       "      <td>1998 (71st) Academy Awards</td>\n",
       "      <td>None</td>\n",
       "    </tr>\n",
       "    <tr>\n",
       "      <th>1168</th>\n",
       "      <td>Makeup</td>\n",
       "      <td>Quest for Fire</td>\n",
       "      <td>NaN</td>\n",
       "      <td>Sarah Monzani, Michèle Burke</td>\n",
       "      <td>1982 (55th) Academy Awards</td>\n",
       "      <td>None</td>\n",
       "    </tr>\n",
       "    <tr>\n",
       "      <th>1198</th>\n",
       "      <td>NaN</td>\n",
       "      <td>NaN</td>\n",
       "      <td>NaN</td>\n",
       "      <td>NaN</td>\n",
       "      <td>NaN</td>\n",
       "      <td>None</td>\n",
       "    </tr>\n",
       "  </tbody>\n",
       "</table>\n",
       "</div>"
      ],
      "text/plain": [
       "                                               Category  \\\n",
       "10                                                Sound   \n",
       "33                                                  NaN   \n",
       "37                                                  NaN   \n",
       "82                                                  NaN   \n",
       "161                                                 NaN   \n",
       "169                       Writing (Original Screenplay)   \n",
       "235    Writing (Screenplay Written Directly for the ...   \n",
       "272                              Special Visual Effects   \n",
       "279                                                 NaN   \n",
       "288                                      Visual Effects   \n",
       "299                                                 NaN   \n",
       "362                                                 NaN   \n",
       "417                          Actor in a Supporting Role   \n",
       "419                                                 NaN   \n",
       "421                          Actor in a Supporting Role   \n",
       "426                          Actor in a Supporting Role   \n",
       "472                                                 NaN   \n",
       "477                                        Film Editing   \n",
       "488                                        Film Editing   \n",
       "493                                                 NaN   \n",
       "601                           Actress in a Leading Role   \n",
       "697                                                 NaN   \n",
       "716                                      Costume Design   \n",
       "724                                      Costume Design   \n",
       "731                                      Costume Design   \n",
       "784                                      Cinematography   \n",
       "791                                      Cinematography   \n",
       "832                               Documentary (Feature)   \n",
       "885                                                 NaN   \n",
       "902                         Documentary (Short Subject)   \n",
       "916                                                 NaN   \n",
       "925                                                 NaN   \n",
       "980                                           Directing   \n",
       "997                                                 NaN   \n",
       "999                                                 NaN   \n",
       "1005                                          Directing   \n",
       "1006                                                NaN   \n",
       "1041                                       Music (Song)   \n",
       "1063   Music (Original Score--for a motion picture [...   \n",
       "1074                             Music (Original Score)   \n",
       "1076                             Music (Original Score)   \n",
       "1083                             Music (Original Score)   \n",
       "1116                                                NaN   \n",
       "1139                              Music (Original Song)   \n",
       "1147                              Music (Original Song)   \n",
       "1168                                             Makeup   \n",
       "1198                                                NaN   \n",
       "\n",
       "                      Film Title Speech  \\\n",
       "10                       Oliver!    NaN   \n",
       "33                           NaN    NaN   \n",
       "37                           NaN    NaN   \n",
       "82                           NaN    NaN   \n",
       "161                          NaN    NaN   \n",
       "169            Midnight in Paris    NaN   \n",
       "235       Hannah and Her Sisters    NaN   \n",
       "272        2001: A Space Odyssey    NaN   \n",
       "279                          NaN    NaN   \n",
       "288                Jurassic Park    NaN   \n",
       "299                          NaN    NaN   \n",
       "362                          NaN    NaN   \n",
       "417                        Julia    NaN   \n",
       "419                          NaN    NaN   \n",
       "421                       Arthur    NaN   \n",
       "426       Hannah and Her Sisters    NaN   \n",
       "472                          NaN    NaN   \n",
       "477         The Towering Inferno    NaN   \n",
       "488                      Witness    NaN   \n",
       "493                          NaN    NaN   \n",
       "601               On Golden Pond    NaN   \n",
       "697                          NaN    NaN   \n",
       "716             Romeo and Juliet    NaN   \n",
       "724           Fellini's Casanova    NaN   \n",
       "731        Fanny &amp; Alexander    NaN   \n",
       "784           The Killing Fields    NaN   \n",
       "791                          JFK    NaN   \n",
       "832            Journey into Self    NaN   \n",
       "885                          NaN    NaN   \n",
       "902              This Tiny World    NaN   \n",
       "916                          NaN    NaN   \n",
       "925                          NaN    NaN   \n",
       "980                   Annie Hall    NaN   \n",
       "997                          NaN    NaN   \n",
       "999                          NaN    NaN   \n",
       "1005                 The Pianist    NaN   \n",
       "1006                         NaN    NaN   \n",
       "1041             Never on Sunday    NaN   \n",
       "1063          The Lion in Winter    NaN   \n",
       "1074            A Little Romance    NaN   \n",
       "1076            Chariots of Fire    NaN   \n",
       "1083   The Milagro Beanfield War    NaN   \n",
       "1116                         NaN    NaN   \n",
       "1139                  Dick Tracy    NaN   \n",
       "1147         The Prince of Egypt    NaN   \n",
       "1168              Quest for Fire    NaN   \n",
       "1198                         NaN    NaN   \n",
       "\n",
       "                                                 Winner  \\\n",
       "10                   Shepperton Studio Sound Department   \n",
       "33                                                  NaN   \n",
       "37                                                  NaN   \n",
       "82                                                  NaN   \n",
       "161                                                 NaN   \n",
       "169                              Written by Woody Allen   \n",
       "235                                         Woody Allen   \n",
       "272                                     Stanley Kubrick   \n",
       "279                                                 NaN   \n",
       "288    Dennis Muren, Stan Winston, Phil Tippett, Mic...   \n",
       "299                                                 NaN   \n",
       "362                                                 NaN   \n",
       "417                                       Jason Robards   \n",
       "419                                                 NaN   \n",
       "421                                        John Gielgud   \n",
       "426                                       Michael Caine   \n",
       "472                                                 NaN   \n",
       "477                         Harold F. Kress, Carl Kress   \n",
       "488                                          Thom Noble   \n",
       "493                                                 NaN   \n",
       "601                                   Katharine Hepburn   \n",
       "697                                                 NaN   \n",
       "716                                       Danilo Donati   \n",
       "724                                       Danilo Donati   \n",
       "731                                           Marik Vos   \n",
       "784                                        Chris Menges   \n",
       "791                                   Robert Richardson   \n",
       "832                                Bill McGaw, Producer   \n",
       "885                                                 NaN   \n",
       "902    Charles Huguenot van der Linden and Martina H...   \n",
       "916                                                 NaN   \n",
       "925                                                 NaN   \n",
       "980                                         Woody Allen   \n",
       "997                                                 NaN   \n",
       "999                                                 NaN   \n",
       "1005                                     Roman Polanski   \n",
       "1006                                                NaN   \n",
       "1041               Music and Lyrics by Manos Hadjidakis   \n",
       "1063                                         John Barry   \n",
       "1074                                    Georges Delerue   \n",
       "1076                                           Vangelis   \n",
       "1083                                        Dave Grusin   \n",
       "1116                                                NaN   \n",
       "1139                Music and Lyric by Stephen Sondheim   \n",
       "1147                Music and Lyric by Stephen Schwartz   \n",
       "1168                       Sarah Monzani, Michèle Burke   \n",
       "1198                                                NaN   \n",
       "\n",
       "                             Year tokens  \n",
       "10     1968 (41st) Academy Awards   None  \n",
       "33                            NaN   None  \n",
       "37                            NaN   None  \n",
       "82                            NaN   None  \n",
       "161                           NaN   None  \n",
       "169    2011 (84th) Academy Awards   None  \n",
       "235    1986 (59th) Academy Awards   None  \n",
       "272    1968 (41st) Academy Awards   None  \n",
       "279                           NaN   None  \n",
       "288    1993 (66th) Academy Awards   None  \n",
       "299                           NaN   None  \n",
       "362                           NaN   None  \n",
       "417    1977 (50th) Academy Awards   None  \n",
       "419                           NaN   None  \n",
       "421    1981 (54th) Academy Awards   None  \n",
       "426    1986 (59th) Academy Awards   None  \n",
       "472                           NaN   None  \n",
       "477    1974 (47th) Academy Awards   None  \n",
       "488    1985 (58th) Academy Awards   None  \n",
       "493                           NaN   None  \n",
       "601    1981 (54th) Academy Awards   None  \n",
       "697                           NaN   None  \n",
       "716    1968 (41st) Academy Awards   None  \n",
       "724    1976 (49th) Academy Awards   None  \n",
       "731    1983 (56th) Academy Awards   None  \n",
       "784    1984 (57th) Academy Awards   None  \n",
       "791    1991 (64th) Academy Awards   None  \n",
       "832    1968 (41st) Academy Awards   None  \n",
       "885                           NaN   None  \n",
       "902    1972 (45th) Academy Awards   None  \n",
       "916                           NaN   None  \n",
       "925                           NaN   None  \n",
       "980    1977 (50th) Academy Awards   None  \n",
       "997                           NaN   None  \n",
       "999                           NaN   None  \n",
       "1005   2002 (75th) Academy Awards   None  \n",
       "1006                          NaN   None  \n",
       "1041   1960 (33rd) Academy Awards   None  \n",
       "1063   1968 (41st) Academy Awards   None  \n",
       "1074   1979 (52nd) Academy Awards   None  \n",
       "1076   1981 (54th) Academy Awards   None  \n",
       "1083   1988 (61st) Academy Awards   None  \n",
       "1116                          NaN   None  \n",
       "1139   1990 (63rd) Academy Awards   None  \n",
       "1147   1998 (71st) Academy Awards   None  \n",
       "1168   1982 (55th) Academy Awards   None  \n",
       "1198                          NaN   None  "
      ]
     },
     "execution_count": 73,
     "metadata": {},
     "output_type": "execute_result"
    }
   ],
   "source": [
    "df[speech_missing]"
   ]
  },
  {
   "cell_type": "code",
   "execution_count": 117,
   "metadata": {
    "collapsed": false
   },
   "outputs": [
    {
     "data": {
      "text/plain": [
       "(1156, 6)"
      ]
     },
     "execution_count": 117,
     "metadata": {},
     "output_type": "execute_result"
    }
   ],
   "source": [
    "df2=df[-speech_missing].copy()\n",
    "df2.shape"
   ]
  },
  {
   "cell_type": "markdown",
   "metadata": {},
   "source": [
    "### Look at distribution of award categories"
   ]
  },
  {
   "cell_type": "code",
   "execution_count": 118,
   "metadata": {
    "collapsed": false
   },
   "outputs": [
    {
     "data": {
      "text/html": [
       "<div>\n",
       "<table border=\"1\" class=\"dataframe\">\n",
       "  <thead>\n",
       "    <tr style=\"text-align: right;\">\n",
       "      <th></th>\n",
       "      <th>Category</th>\n",
       "    </tr>\n",
       "  </thead>\n",
       "  <tbody>\n",
       "    <tr>\n",
       "      <th>Actress in a Supporting Role</th>\n",
       "      <td>74</td>\n",
       "    </tr>\n",
       "    <tr>\n",
       "      <th>Actor in a Supporting Role</th>\n",
       "      <td>69</td>\n",
       "    </tr>\n",
       "    <tr>\n",
       "      <th>Directing</th>\n",
       "      <td>68</td>\n",
       "    </tr>\n",
       "    <tr>\n",
       "      <th>Documentary (Feature)</th>\n",
       "      <td>64</td>\n",
       "    </tr>\n",
       "    <tr>\n",
       "      <th>Documentary (Short Subject)</th>\n",
       "      <td>61</td>\n",
       "    </tr>\n",
       "    <tr>\n",
       "      <th>Film Editing</th>\n",
       "      <td>59</td>\n",
       "    </tr>\n",
       "    <tr>\n",
       "      <th>Best Picture</th>\n",
       "      <td>56</td>\n",
       "    </tr>\n",
       "    <tr>\n",
       "      <th>Cinematography</th>\n",
       "      <td>50</td>\n",
       "    </tr>\n",
       "    <tr>\n",
       "      <th>Costume Design</th>\n",
       "      <td>50</td>\n",
       "    </tr>\n",
       "    <tr>\n",
       "      <th>Foreign Language Film</th>\n",
       "      <td>42</td>\n",
       "    </tr>\n",
       "    <tr>\n",
       "      <th>Sound</th>\n",
       "      <td>42</td>\n",
       "    </tr>\n",
       "    <tr>\n",
       "      <th>Actress in a Leading Role</th>\n",
       "      <td>41</td>\n",
       "    </tr>\n",
       "    <tr>\n",
       "      <th>Music (Original Song)</th>\n",
       "      <td>41</td>\n",
       "    </tr>\n",
       "    <tr>\n",
       "      <th>Actor in a Leading Role</th>\n",
       "      <td>41</td>\n",
       "    </tr>\n",
       "    <tr>\n",
       "      <th>Music (Original Score)</th>\n",
       "      <td>36</td>\n",
       "    </tr>\n",
       "    <tr>\n",
       "      <th>Visual Effects</th>\n",
       "      <td>34</td>\n",
       "    </tr>\n",
       "    <tr>\n",
       "      <th>Actress</th>\n",
       "      <td>33</td>\n",
       "    </tr>\n",
       "    <tr>\n",
       "      <th>Actor</th>\n",
       "      <td>30</td>\n",
       "    </tr>\n",
       "    <tr>\n",
       "      <th>Makeup</th>\n",
       "      <td>29</td>\n",
       "    </tr>\n",
       "    <tr>\n",
       "      <th>Writing (Screenplay Written Directly for the Screen)</th>\n",
       "      <td>23</td>\n",
       "    </tr>\n",
       "    <tr>\n",
       "      <th>Sound Editing</th>\n",
       "      <td>19</td>\n",
       "    </tr>\n",
       "    <tr>\n",
       "      <th>Writing (Screenplay--based on material from another medium)</th>\n",
       "      <td>19</td>\n",
       "    </tr>\n",
       "    <tr>\n",
       "      <th>Writing (Original Screenplay)</th>\n",
       "      <td>17</td>\n",
       "    </tr>\n",
       "    <tr>\n",
       "      <th>Writing (Adapted Screenplay)</th>\n",
       "      <td>16</td>\n",
       "    </tr>\n",
       "    <tr>\n",
       "      <th>Music (Song)</th>\n",
       "      <td>15</td>\n",
       "    </tr>\n",
       "    <tr>\n",
       "      <th>Best Motion Picture</th>\n",
       "      <td>15</td>\n",
       "    </tr>\n",
       "    <tr>\n",
       "      <th>Sound Mixing</th>\n",
       "      <td>14</td>\n",
       "    </tr>\n",
       "    <tr>\n",
       "      <th>Writing (Screenplay Based on Material from Another Medium)</th>\n",
       "      <td>13</td>\n",
       "    </tr>\n",
       "    <tr>\n",
       "      <th>Writing (Story and Screenplay--written directly for the screen)</th>\n",
       "      <td>12</td>\n",
       "    </tr>\n",
       "    <tr>\n",
       "      <th>Music (Scoring of a Musical Picture)</th>\n",
       "      <td>7</td>\n",
       "    </tr>\n",
       "    <tr>\n",
       "      <th>Music (Music Score of a Dramatic or Comedy Picture)</th>\n",
       "      <td>7</td>\n",
       "    </tr>\n",
       "    <tr>\n",
       "      <th>Special Visual Effects</th>\n",
       "      <td>7</td>\n",
       "    </tr>\n",
       "    <tr>\n",
       "      <th>Music (Original Dramatic Score)</th>\n",
       "      <td>7</td>\n",
       "    </tr>\n",
       "    <tr>\n",
       "      <th>Music (Scoring of Music--adaptation or treatment)</th>\n",
       "      <td>6</td>\n",
       "    </tr>\n",
       "    <tr>\n",
       "      <th>Makeup and Hairstyling</th>\n",
       "      <td>5</td>\n",
       "    </tr>\n",
       "    <tr>\n",
       "      <th>Music (Song--Original for the Picture)</th>\n",
       "      <td>5</td>\n",
       "    </tr>\n",
       "    <tr>\n",
       "      <th>Sound Effects</th>\n",
       "      <td>5</td>\n",
       "    </tr>\n",
       "    <tr>\n",
       "      <th>Music (Music Score--substantially original)</th>\n",
       "      <td>4</td>\n",
       "    </tr>\n",
       "    <tr>\n",
       "      <th>Music (Scoring: Original Song Score and Adaptation -or- Scoring: Adaptation)</th>\n",
       "      <td>3</td>\n",
       "    </tr>\n",
       "    <tr>\n",
       "      <th>Music (Scoring: Adaptation and Original Song Score)</th>\n",
       "      <td>2</td>\n",
       "    </tr>\n",
       "    <tr>\n",
       "      <th>Music (Original Music Score)</th>\n",
       "      <td>2</td>\n",
       "    </tr>\n",
       "    <tr>\n",
       "      <th>Sound Recording</th>\n",
       "      <td>2</td>\n",
       "    </tr>\n",
       "    <tr>\n",
       "      <th>Writing (Screenplay)</th>\n",
       "      <td>2</td>\n",
       "    </tr>\n",
       "    <tr>\n",
       "      <th>Writing (Screenplay Written Directly for the Screen--based on factual material or on story material not previously published or produced)</th>\n",
       "      <td>2</td>\n",
       "    </tr>\n",
       "    <tr>\n",
       "      <th>Music (Original Song Score)</th>\n",
       "      <td>2</td>\n",
       "    </tr>\n",
       "    <tr>\n",
       "      <th>Writing (Screenplay Adapted from Other Material)</th>\n",
       "      <td>2</td>\n",
       "    </tr>\n",
       "    <tr>\n",
       "      <th>Special Effects</th>\n",
       "      <td>1</td>\n",
       "    </tr>\n",
       "    <tr>\n",
       "      <th>Writing (Original Story)</th>\n",
       "      <td>1</td>\n",
       "    </tr>\n",
       "    <tr>\n",
       "      <th>Music (Original Score--for a motion picture [not a musical])</th>\n",
       "      <td>1</td>\n",
       "    </tr>\n",
       "  </tbody>\n",
       "</table>\n",
       "</div>"
      ],
      "text/plain": [
       "                                                    Category\n",
       " Actress in a Supporting Role                             74\n",
       " Actor in a Supporting Role                               69\n",
       " Directing                                                68\n",
       " Documentary (Feature)                                    64\n",
       " Documentary (Short Subject)                              61\n",
       " Film Editing                                             59\n",
       " Best Picture                                             56\n",
       " Cinematography                                           50\n",
       " Costume Design                                           50\n",
       " Foreign Language Film                                    42\n",
       " Sound                                                    42\n",
       " Actress in a Leading Role                                41\n",
       " Music (Original Song)                                    41\n",
       " Actor in a Leading Role                                  41\n",
       " Music (Original Score)                                   36\n",
       " Visual Effects                                           34\n",
       " Actress                                                  33\n",
       " Actor                                                    30\n",
       " Makeup                                                   29\n",
       " Writing (Screenplay Written Directly for the S...        23\n",
       " Sound Editing                                            19\n",
       " Writing (Screenplay--based on material from an...        19\n",
       " Writing (Original Screenplay)                            17\n",
       " Writing (Adapted Screenplay)                             16\n",
       " Music (Song)                                             15\n",
       " Best Motion Picture                                      15\n",
       " Sound Mixing                                             14\n",
       " Writing (Screenplay Based on Material from Ano...        13\n",
       " Writing (Story and Screenplay--written directl...        12\n",
       " Music (Scoring of a Musical Picture)                      7\n",
       " Music (Music Score of a Dramatic or Comedy Pic...         7\n",
       " Special Visual Effects                                    7\n",
       " Music (Original Dramatic Score)                           7\n",
       " Music (Scoring of Music--adaptation or treatment)         6\n",
       " Makeup and Hairstyling                                    5\n",
       " Music (Song--Original for the Picture)                    5\n",
       " Sound Effects                                             5\n",
       " Music (Music Score--substantially original)               4\n",
       " Music (Scoring: Original Song Score and Adapta...         3\n",
       " Music (Scoring: Adaptation and Original Song S...         2\n",
       " Music (Original Music Score)                              2\n",
       " Sound Recording                                           2\n",
       " Writing (Screenplay)                                      2\n",
       " Writing (Screenplay Written Directly for the S...         2\n",
       " Music (Original Song Score)                               2\n",
       " Writing (Screenplay Adapted from Other Material)          2\n",
       " Special Effects                                           1\n",
       " Writing (Original Story)                                  1\n",
       " Music (Original Score--for a motion picture [n...         1"
      ]
     },
     "execution_count": 118,
     "metadata": {},
     "output_type": "execute_result"
    }
   ],
   "source": [
    "pd.DataFrame(df2['Category'].value_counts())"
   ]
  },
  {
   "cell_type": "markdown",
   "metadata": {},
   "source": [
    "* Grouping by the first word of the award category should reduce the number of categories and make them more use for summarizing patterns and frequencies."
   ]
  },
  {
   "cell_type": "code",
   "execution_count": 119,
   "metadata": {
    "collapsed": false
   },
   "outputs": [
    {
     "data": {
      "text/plain": [
       "Actress           148\n",
       "Actor             140\n",
       "Music             138\n",
       "Documentary       125\n",
       "Writing           107\n",
       "Sound              82\n",
       "Best               71\n",
       "Directing          68\n",
       "Film               59\n",
       "Cinematography     50\n",
       "Costume            50\n",
       "Foreign            42\n",
       "Visual             34\n",
       "Makeup             34\n",
       "Special             8\n",
       "Name: Category, dtype: int64"
      ]
     },
     "execution_count": 119,
     "metadata": {},
     "output_type": "execute_result"
    }
   ],
   "source": [
    "df2['Category'].apply(lambda s: s.strip().split()[0]).value_counts()"
   ]
  },
  {
   "cell_type": "code",
   "execution_count": 120,
   "metadata": {
    "collapsed": false
   },
   "outputs": [],
   "source": [
    "df2['cat2']=df2['Category'].apply(lambda s: s.strip().split()[0])"
   ]
  },
  {
   "cell_type": "markdown",
   "metadata": {},
   "source": [
    "### Distribution by year"
   ]
  },
  {
   "cell_type": "code",
   "execution_count": 121,
   "metadata": {
    "collapsed": false
   },
   "outputs": [],
   "source": [
    "year_cnt=df2['Year'].value_counts()"
   ]
  },
  {
   "cell_type": "code",
   "execution_count": 122,
   "metadata": {
    "collapsed": false
   },
   "outputs": [
    {
     "data": {
      "text/plain": [
       " 1939 (12th) Academy Awards     2\n",
       " 1941 (14th) Academy Awards     8\n",
       " 1942 (15th) Academy Awards     5\n",
       " 1943 (16th) Academy Awards     1\n",
       " 1946 (19th) Academy Awards     6\n",
       " 1947 (20th) Academy Awards     6\n",
       " 1949 (22nd) Academy Awards     6\n",
       " 1950 (23rd) Academy Awards     6\n",
       " 1951 (24th) Academy Awards     6\n",
       " 1952 (25th) Academy Awards    10\n",
       " 1953 (26th) Academy Awards     7\n",
       " 1954 (27th) Academy Awards    13\n",
       " 1955 (28th) Academy Awards     6\n",
       " 1956 (29th) Academy Awards    14\n",
       " 1957 (30th) Academy Awards    15\n",
       " 1958 (31st) Academy Awards    17\n",
       " 1959 (32nd) Academy Awards    16\n",
       " 1960 (33rd) Academy Awards    15\n",
       " 1961 (34th) Academy Awards    16\n",
       " 1962 (35th) Academy Awards    16\n",
       " 1963 (36th) Academy Awards    18\n",
       " 1964 (37th) Academy Awards    18\n",
       " 1965 (38th) Academy Awards    18\n",
       " 1966 (39th) Academy Awards    18\n",
       " 1967 (40th) Academy Awards    20\n",
       " 1968 (41st) Academy Awards    14\n",
       " 1969 (42nd) Academy Awards    16\n",
       " 1970 (43rd) Academy Awards    17\n",
       " 1971 (44th) Academy Awards    18\n",
       " 1972 (45th) Academy Awards    16\n",
       "                               ..\n",
       " 1988 (61st) Academy Awards    18\n",
       " 1989 (62nd) Academy Awards    19\n",
       " 1990 (63rd) Academy Awards    16\n",
       " 1991 (64th) Academy Awards    16\n",
       " 1992 (65th) Academy Awards    18\n",
       " 1993 (66th) Academy Awards    17\n",
       " 1994 (67th) Academy Awards    17\n",
       " 1995 (68th) Academy Awards    15\n",
       " 1996 (69th) Academy Awards    16\n",
       " 1997 (70th) Academy Awards    18\n",
       " 1998 (71st) Academy Awards    16\n",
       " 1999 (72nd) Academy Awards    17\n",
       " 2000 (73rd) Academy Awards    18\n",
       " 2001 (74th) Academy Awards    18\n",
       " 2002 (75th) Academy Awards    17\n",
       " 2003 (76th) Academy Awards    17\n",
       " 2004 (77th) Academy Awards    18\n",
       " 2005 (78th) Academy Awards    19\n",
       " 2006 (79th) Academy Awards    19\n",
       " 2007 (80th) Academy Awards    19\n",
       " 2008 (81st) Academy Awards    19\n",
       " 2009 (82nd) Academy Awards    19\n",
       " 2010 (83rd) Academy Awards    19\n",
       " 2011 (84th) Academy Awards    18\n",
       " 2012 (85th) Academy Awards    20\n",
       " 2013 (86th) Academy Awards    18\n",
       " 2014 (87th) Academy Awards    18\n",
       " 2015 (88th) Academy Awards    19\n",
       " 2016 (89th) Academy Awards    19\n",
       " 2017 (90th) Academy Awards    19\n",
       "Name: Year, dtype: int64"
      ]
     },
     "execution_count": 122,
     "metadata": {},
     "output_type": "execute_result"
    }
   ],
   "source": [
    "year_cnt.sort_index()"
   ]
  },
  {
   "cell_type": "code",
   "execution_count": 95,
   "metadata": {
    "collapsed": false
   },
   "outputs": [
    {
     "data": {
      "text/plain": [
       "<matplotlib.text.Text at 0x23f27be5828>"
      ]
     },
     "execution_count": 95,
     "metadata": {},
     "output_type": "execute_result"
    },
    {
     "data": {
      "image/png": "[encoded data removed]",
      "text/plain": [
       "<matplotlib.figure.Figure at 0x23f2958a748>"
      ]
     },
     "metadata": {},
     "output_type": "display_data"
    }
   ],
   "source": [
    "plt.figure(figsize=(16,6))\n",
    "ax=year_cnt.sort_index().plot.bar(alpha=0.5)\n",
    "ax.set_xticklabels(year_cnt.index.str.replace('^\\s*(\\d+)\\s.*','\\\\1').sort_values(), rotation=90);\n",
    "ax.set_ylabel('Number of speeches')\n",
    "ax.set_xlabel('Year')"
   ]
  },
  {
   "cell_type": "markdown",
   "metadata": {},
   "source": [
    "## Look at word and phrase frequencies\n",
    "\n",
    "* Use simple normalization and tokenization \n",
    "    * lowercase\n",
    "    * strip minimal punctuation (these are transcripts of spoken language)\n",
    "        * leave `'` for contractions, e.g. `we'd`, `i'd`, etc.\n",
    "    * split of white space    "
   ]
  },
  {
   "cell_type": "code",
   "execution_count": 8,
   "metadata": {
    "collapsed": false
   },
   "outputs": [],
   "source": [
    "def tokenize(text, lc=True, strip_chars=',!.'):\n",
    "    if type(text) is not str:\n",
    "        return\n",
    "    if lc:\n",
    "        text=text.lower()\n",
    "    rdict = str.maketrans('','',strip_chars)\n",
    "    tokens = text.translate(rdict).split()\n",
    "    return tokens"
   ]
  },
  {
   "cell_type": "code",
   "execution_count": 123,
   "metadata": {
    "collapsed": false
   },
   "outputs": [],
   "source": [
    "df2.loc[:, 'tokens']=df2.Speech.apply(lambda s: tokenize(s))"
   ]
  },
  {
   "cell_type": "code",
   "execution_count": 124,
   "metadata": {
    "collapsed": false
   },
   "outputs": [
    {
     "data": {
      "text/plain": [
       "array([ ['in', 'behalf', 'of', 'the', 'todd-ao', 'sound', 'department', 'i', 'accept', 'this', 'with', 'thanks'],\n",
       "       ['this', 'is', 'an', 'award', 'given', 'to', 'an', 'entire', 'sound', 'department', 'and', 'they', 'all', 'deserve', 'it;', 'they', 'all', 'worked', 'on', 'it', \"there's\", 'one', 'man', 'i', 'want', 'to', 'thank', 'especially', \"that's\", 're-recording', 'mixer', 'william', 'steinkamp', 'for', 'his', 'very', 'excellent', 'work'],\n",
       "       ['the', 'samuel', 'goldwyn', 'sound', 'department', 'wishes', 'to', 'thank', 'the', 'members', 'of', 'the', 'academy', 'for', 'this', 'honor', 'that', 'they', 'have', 'bestowed', 'upon', 'us', 'thank', 'youfred', 'hynes:the', 'todd-ao', 'sound', 'department', 'would', 'also', 'like', 'to', 'thank', 'the', 'academy', 'and', 'all', 'the', 'members', 'and', 'thanks', 'again', 'wonderful'],\n",
       "       ['i', 'want', 'to', 'thank', 'all', 'the', 'members', 'of', 'the', 'academy', 'and', 'everyone', 'who', 'made', 'this', 'possible', 'especially', 'murray', 'spivack', 'glenn', 'rominger', 'and', 'joe', 'kane', 'thank', 'you', 'very', 'muchgordon', 'e', 'sawyer:on', 'behalf', 'of', 'the', 'samuel', 'goldwyn', 'sound', 'department', 'and', 'especially', 'fred', 'lau', 'and', 'vinton', 'vernon', 'i', 'wish', 'to', 'thank', 'the', 'academy', 'thank', 'you', 'very', 'much'],\n",
       "       ['on', 'behalf', 'of', 'john', 'cox', 'columbia', 'pictures', 'my', 'friends', 'david', 'lean', 'and', 'sam', 'spiegel', \"i'm\", 'very', 'proud', 'and', 'very', 'pleased', 'to', 'accept', 'this', 'award']], dtype=object)"
      ]
     },
     "execution_count": 124,
     "metadata": {},
     "output_type": "execute_result"
    }
   ],
   "source": [
    "df2.tokens[:5].values"
   ]
  },
  {
   "cell_type": "markdown",
   "metadata": {},
   "source": [
    "* This seems to be a reasonable first step for examining the vocabulary in the speeches"
   ]
  },
  {
   "cell_type": "markdown",
   "metadata": {},
   "source": [
    "### Word frequency distributions"
   ]
  },
  {
   "cell_type": "code",
   "execution_count": 104,
   "metadata": {
    "collapsed": false
   },
   "outputs": [],
   "source": [
    "word_dist = Counter()\n",
    "for speech in df2.tokens:\n",
    "    word_dist.update(speech)"
   ]
  },
  {
   "cell_type": "markdown",
   "metadata": {},
   "source": [
    "* Top 50 most common words across all speeches"
   ]
  },
  {
   "cell_type": "code",
   "execution_count": 107,
   "metadata": {
    "collapsed": false
   },
   "outputs": [
    {
     "data": {
      "text/plain": [
       "[('and', 6927),\n",
       " ('to', 5743),\n",
       " ('the', 5177),\n",
       " ('thank', 3994),\n",
       " ('you', 3971),\n",
       " ('i', 3890),\n",
       " ('of', 2826),\n",
       " ('my', 2509),\n",
       " ('for', 2420),\n",
       " ('a', 2316),\n",
       " ('this', 2161),\n",
       " ('in', 1556),\n",
       " ('that', 1539),\n",
       " ('all', 1468),\n",
       " ('me', 1258),\n",
       " ('very', 1253),\n",
       " ('who', 1227),\n",
       " ('so', 1121),\n",
       " ('it', 1097),\n",
       " ('is', 1066),\n",
       " ('like', 1043),\n",
       " ('much', 973),\n",
       " ('with', 926),\n",
       " ('want', 788),\n",
       " ('was', 706),\n",
       " ('have', 705),\n",
       " ('we', 692),\n",
       " ('be', 660),\n",
       " ('our', 642),\n",
       " ('on', 639),\n",
       " (\"i'm\", 628),\n",
       " ('academy', 597),\n",
       " ('here', 590),\n",
       " ('but', 577),\n",
       " ('people', 559),\n",
       " ('film', 542),\n",
       " (\"i'd\", 486),\n",
       " ('at', 475),\n",
       " ('great', 466),\n",
       " ('us', 465),\n",
       " ('would', 456),\n",
       " ('are', 442),\n",
       " ('just', 437),\n",
       " ('love', 420),\n",
       " ('know', 412),\n",
       " (\"it's\", 406),\n",
       " ('as', 403),\n",
       " ('say', 368),\n",
       " ('really', 363),\n",
       " ('thanks', 362)]"
      ]
     },
     "execution_count": 107,
     "metadata": {},
     "output_type": "execute_result"
    }
   ],
   "source": [
    "word_dist.most_common(50)"
   ]
  },
  {
   "cell_type": "markdown",
   "metadata": {},
   "source": [
    "* There is a tendency in NLP toolkits and applications to remove stopwords (i.e. function or so-called 'non-content' words) before even generating lists.\n",
    "\n",
    "* The danger in this approach (especially when you look at phrases) of missing interesting, important and distinguishing patterns"
   ]
  },
  {
   "cell_type": "markdown",
   "metadata": {},
   "source": [
    "### Word distributions by category\n",
    "\n",
    "* Use the `cat2` categories (first word from award name) and generate one frequency list per category\n",
    "\n",
    "* Put these lists in a dictionary `word_dist_by_cat` for ease of comparison"
   ]
  },
  {
   "cell_type": "code",
   "execution_count": 128,
   "metadata": {
    "collapsed": false
   },
   "outputs": [],
   "source": [
    "word_dist_by_cat={}\n",
    "for cat, cdf in df2.groupby('cat2'):\n",
    "    word_dist_by_cat[cat]=Counter()\n",
    "    cdf['tokens'].apply(lambda t: word_dist_by_cat[cat].update(t))"
   ]
  },
  {
   "cell_type": "markdown",
   "metadata": {},
   "source": [
    "* Top 50 words in the _Actress_ category"
   ]
  },
  {
   "cell_type": "code",
   "execution_count": 139,
   "metadata": {
    "collapsed": false
   },
   "outputs": [
    {
     "data": {
      "text/plain": [
       "[('and', 1176),\n",
       " ('to', 842),\n",
       " ('i', 785),\n",
       " ('you', 734),\n",
       " ('the', 700),\n",
       " ('thank', 626),\n",
       " ('my', 486),\n",
       " ('for', 424),\n",
       " ('of', 370),\n",
       " ('me', 325),\n",
       " ('this', 318),\n",
       " ('a', 307),\n",
       " ('so', 275),\n",
       " ('that', 270),\n",
       " ('in', 259),\n",
       " ('all', 196),\n",
       " ('it', 190),\n",
       " ('who', 183),\n",
       " ('much', 168),\n",
       " ('very', 162),\n",
       " ('have', 160),\n",
       " ('with', 150),\n",
       " ('is', 146),\n",
       " ('like', 136),\n",
       " ('was', 123),\n",
       " ('be', 115),\n",
       " (\"i'm\", 114),\n",
       " ('want', 113),\n",
       " ('know', 97),\n",
       " ('here', 86),\n",
       " ('are', 83),\n",
       " ('would', 83),\n",
       " ('but', 77),\n",
       " ('our', 76),\n",
       " ('your', 75),\n",
       " ('love', 75),\n",
       " ('academy', 71),\n",
       " ('on', 69),\n",
       " ('great', 68),\n",
       " ('her', 68),\n",
       " ('just', 67),\n",
       " ('we', 65),\n",
       " ('as', 62),\n",
       " ('people', 62),\n",
       " ('because', 61),\n",
       " ('really', 60),\n",
       " ('has', 59),\n",
       " ('been', 59),\n",
       " ('say', 57),\n",
       " ('tonight', 54)]"
      ]
     },
     "execution_count": 139,
     "metadata": {},
     "output_type": "execute_result"
    }
   ],
   "source": [
    "word_dist_by_cat['Actress'].most_common(50)"
   ]
  },
  {
   "cell_type": "code",
   "execution_count": 140,
   "metadata": {
    "collapsed": false
   },
   "outputs": [
    {
     "data": {
      "text/plain": [
       "[('and', 1021),\n",
       " ('to', 804),\n",
       " ('i', 773),\n",
       " ('the', 722),\n",
       " ('you', 615),\n",
       " ('thank', 489),\n",
       " ('of', 468),\n",
       " ('a', 416),\n",
       " ('my', 372),\n",
       " ('for', 369),\n",
       " ('this', 308),\n",
       " ('that', 292),\n",
       " ('in', 246),\n",
       " ('me', 245),\n",
       " ('all', 205),\n",
       " ('who', 184),\n",
       " ('it', 182),\n",
       " ('very', 172),\n",
       " ('is', 163),\n",
       " ('so', 160),\n",
       " ('with', 156),\n",
       " (\"i'm\", 137),\n",
       " ('be', 129),\n",
       " ('was', 128),\n",
       " ('have', 121),\n",
       " ('like', 114),\n",
       " ('much', 113),\n",
       " ('here', 112),\n",
       " ('want', 110),\n",
       " ('but', 104),\n",
       " ('he', 96),\n",
       " ('know', 95),\n",
       " ('people', 85),\n",
       " ('we', 81),\n",
       " ('great', 79),\n",
       " ('just', 78),\n",
       " ('on', 78),\n",
       " ('academy', 78),\n",
       " ('love', 78),\n",
       " ('are', 76),\n",
       " ('say', 73),\n",
       " ('one', 72),\n",
       " ('not', 71),\n",
       " (\"it's\", 70),\n",
       " ('his', 70),\n",
       " ('wonderful', 69),\n",
       " ('would', 69),\n",
       " ('at', 69),\n",
       " ('as', 67),\n",
       " ('tonight', 65)]"
      ]
     },
     "execution_count": 140,
     "metadata": {},
     "output_type": "execute_result"
    }
   ],
   "source": [
    "word_dist_by_cat['Actor'].most_common(50)"
   ]
  },
  {
   "cell_type": "code",
   "execution_count": 141,
   "metadata": {
    "collapsed": false
   },
   "outputs": [
    {
     "data": {
      "text/plain": [
       "220.32981886996487"
      ]
     },
     "execution_count": 141,
     "metadata": {},
     "output_type": "execute_result"
    }
   ],
   "source": [
    "word_dist_by_cat['Actor']['thank'] / sum(word_dist_by_cat['Actor'].values())*10000"
   ]
  },
  {
   "cell_type": "code",
   "execution_count": 142,
   "metadata": {
    "collapsed": false
   },
   "outputs": [
    {
     "data": {
      "text/plain": [
       "282.4272501691857"
      ]
     },
     "execution_count": 142,
     "metadata": {},
     "output_type": "execute_result"
    }
   ],
   "source": [
    "word_dist_by_cat['Actress']['thank'] / sum(word_dist_by_cat['Actress'].values())*10000"
   ]
  },
  {
   "cell_type": "code",
   "execution_count": 99,
   "metadata": {
    "collapsed": false
   },
   "outputs": [],
   "source": [
    "first_5_words=df.tokens.apply(lambda t: None if t is None or len(t) < 5 else  ' '.join(t[:5]))"
   ]
  },
  {
   "cell_type": "code",
   "execution_count": null,
   "metadata": {
    "collapsed": true
   },
   "outputs": [],
   "source": []
  },
  {
   "cell_type": "code",
   "execution_count": 29,
   "metadata": {
    "collapsed": false
   },
   "outputs": [],
   "source": [
    "edges=Counter()\n",
    "\n",
    "for item, freq in Counter(first_5_words).most_common():\n",
    "    if not item or freq<3:\n",
    "        continue\n",
    "        \n",
    "    \n",
    "    nodes=item.split()\n",
    "    edges.update((('START',nodes[0]),)*freq)\n",
    "    edges.update([(nodes[i],nodes[i+1]) for i,_ in enumerate(nodes[:-1])]*freq)\n",
    "    "
   ]
  },
  {
   "cell_type": "code",
   "execution_count": 30,
   "metadata": {
    "collapsed": false
   },
   "outputs": [
    {
     "data": {
      "text/plain": [
       "[(('thank', 'you'), 122),\n",
       " (('START', 'thank'), 94),\n",
       " (('to', 'thank'), 44),\n",
       " (('you', 'very'), 44),\n",
       " (('very', 'much'), 40),\n",
       " (('like', 'to'), 30),\n",
       " (('thank', 'the'), 29),\n",
       " (('you', 'thank'), 28),\n",
       " (('START', 'i'), 26),\n",
       " (('you', 'so'), 26),\n",
       " (('so', 'much'), 20),\n",
       " ((\"i'd\", 'like'), 18),\n",
       " (('START', \"i'd\"), 15),\n",
       " (('want', 'to'), 13),\n",
       " (('much', 'to'), 12),\n",
       " (('you', 'all'), 10),\n",
       " (('i', 'want'), 10),\n",
       " (('i', 'would'), 9),\n",
       " (('would', 'like'), 9),\n",
       " (('much', 'i'), 9),\n",
       " (('much', 'thank'), 8),\n",
       " (('much', 'this'), 8),\n",
       " (('you', 'to'), 7),\n",
       " (('to', 'the'), 7),\n",
       " (('the', 'academy'), 7),\n",
       " (('all', 'very'), 7),\n",
       " (('much', 'members'), 6),\n",
       " (('i', 'wish'), 4),\n",
       " (('wish', 'to'), 4),\n",
       " (('START', 'oh'), 4),\n",
       " (('oh', 'my'), 4),\n",
       " (('my', 'god'), 4),\n",
       " (('god', 'thank'), 4),\n",
       " (('much', \"i'm\"), 4),\n",
       " (('thank', 'all'), 3),\n",
       " (('much', \"it's\"), 3),\n",
       " (('START', 'well'), 3),\n",
       " (('well', \"i'd\"), 3),\n",
       " (('much', 'for'), 3),\n",
       " (('i', 'just'), 3),\n",
       " (('just', 'want'), 3),\n",
       " (('to', 'say'), 3),\n",
       " (('you', 'ladies'), 3),\n",
       " (('ladies', 'and'), 3),\n",
       " (('and', 'gentlemen'), 3),\n",
       " (('START', \"it's\"), 3),\n",
       " ((\"it's\", 'a'), 3),\n",
       " (('a', 'great'), 3),\n",
       " (('great', 'honor'), 3),\n",
       " (('honor', 'to'), 3),\n",
       " (('START', \"we'd\"), 3),\n",
       " ((\"we'd\", 'like'), 3)]"
      ]
     },
     "execution_count": 30,
     "metadata": {},
     "output_type": "execute_result"
    }
   ],
   "source": [
    "edges.most_common()"
   ]
  },
  {
   "cell_type": "code",
   "execution_count": 32,
   "metadata": {
    "collapsed": false
   },
   "outputs": [],
   "source": [
    "edge_list = [ (s,t, str(round(math.log10(f+0.1),3))) for (s,t),f in edges.items()]"
   ]
  },
  {
   "cell_type": "code",
   "execution_count": 33,
   "metadata": {
    "collapsed": false
   },
   "outputs": [],
   "source": [
    "DG=nx.DiGraph()\n",
    "DG.add_weighted_edges_from(edge_list)"
   ]
  },
  {
   "cell_type": "code",
   "execution_count": 34,
   "metadata": {
    "collapsed": false
   },
   "outputs": [
    {
     "name": "stdout",
     "output_type": "stream",
     "text": [
      "START i'd 1.179\n",
      "START thank 1.974\n",
      "START i 1.417\n",
      "START oh 0.613\n",
      "START well 0.491\n",
      "START it's 0.491\n",
      "START we'd 0.491\n",
      "i'd like 1.258\n",
      "like to 1.479\n",
      "to thank 1.644\n",
      "to the 0.851\n",
      "to say 0.491\n",
      "thank the 1.464\n",
      "thank you 2.087\n",
      "thank all 0.491\n",
      "the academy 0.851\n",
      "you thank 1.449\n",
      "you very 1.644\n",
      "you to 0.851\n",
      "you so 1.417\n",
      "you all 1.004\n",
      "you ladies 0.491\n",
      "very much 1.603\n",
      "i would 0.959\n",
      "i want 1.004\n",
      "i wish 0.613\n",
      "i just 0.491\n",
      "would like 0.959\n",
      "so much 1.303\n",
      "much to 1.083\n",
      "much i 0.959\n",
      "much thank 0.908\n",
      "much this 0.908\n",
      "much i'm 0.613\n",
      "much it's 0.491\n",
      "much for 0.491\n",
      "much members 0.785\n",
      "all very 0.851\n",
      "want to 1.117\n",
      "wish to 0.613\n",
      "oh my 0.613\n",
      "my god 0.613\n",
      "god thank 0.613\n",
      "it's a 0.491\n",
      "well i'd 0.491\n",
      "just want 0.491\n",
      "ladies and 0.491\n",
      "and gentlemen 0.491\n",
      "a great 0.491\n",
      "great honor 0.491\n",
      "honor to 0.491\n",
      "we'd like 0.491\n"
     ]
    }
   ],
   "source": [
    "G = graphviz.Digraph()\n",
    "for s,t, d in DG.edges(data=True):\n",
    "    print(s,t,d['weight'])\n",
    "    G.edge(s,t, penwidth=d['weight'])"
   ]
  },
  {
   "cell_type": "code",
   "execution_count": null,
   "metadata": {
    "collapsed": true
   },
   "outputs": [],
   "source": []
  },
  {
   "cell_type": "code",
   "execution_count": 46,
   "metadata": {
    "collapsed": false
   },
   "outputs": [
    {
     "name": "stdout",
     "output_type": "stream",
     "text": [
      "digraph {\n",
      "\t\tSTART -> \"i'd\" [penwidth=1.179]\n",
      "\t\tSTART -> thank [penwidth=1.974]\n",
      "\t\tSTART -> i [penwidth=1.417]\n",
      "\t\tSTART -> oh [penwidth=0.613]\n",
      "\t\tSTART -> well [penwidth=0.491]\n",
      "\t\tSTART -> \"it's\" [penwidth=0.491]\n",
      "\t\tSTART -> \"we'd\" [penwidth=0.491]\n",
      "\t\t\"i'd\" -> like [penwidth=1.258]\n",
      "\t\tlike -> to [penwidth=1.479]\n",
      "\t\tto -> thank [penwidth=1.644]\n",
      "\t\tto -> the [penwidth=0.851]\n",
      "\t\tto -> say [penwidth=0.491]\n",
      "\t\tthank -> the [penwidth=1.464]\n",
      "\t\tthank -> you [penwidth=2.087]\n",
      "\t\tthank -> all [penwidth=0.491]\n",
      "\t\tthe -> academy [penwidth=0.851]\n",
      "\t\tyou -> thank [penwidth=1.449]\n",
      "\t\tyou -> very [penwidth=1.644]\n",
      "\t\tyou -> to [penwidth=0.851]\n",
      "\t\tyou -> so [penwidth=1.417]\n",
      "\t\tyou -> all [penwidth=1.004]\n",
      "\t\tyou -> ladies [penwidth=0.491]\n",
      "\t\tvery -> much [penwidth=1.603]\n",
      "\t\ti -> would [penwidth=0.959]\n",
      "\t\ti -> want [penwidth=1.004]\n",
      "\t\ti -> wish [penwidth=0.613]\n",
      "\t\ti -> just [penwidth=0.491]\n",
      "\t\twould -> like [penwidth=0.959]\n",
      "\t\tso -> much [penwidth=1.303]\n",
      "\t\tmuch -> to [penwidth=1.083]\n",
      "\t\tmuch -> i [penwidth=0.959]\n",
      "\t\tmuch -> thank [penwidth=0.908]\n",
      "\t\tmuch -> this [penwidth=0.908]\n",
      "\t\tmuch -> \"i'm\" [penwidth=0.613]\n",
      "\t\tmuch -> \"it's\" [penwidth=0.491]\n",
      "\t\tmuch -> for [penwidth=0.491]\n",
      "\t\tmuch -> members [penwidth=0.785]\n",
      "\t\tall -> very [penwidth=0.851]\n",
      "\t\twant -> to [penwidth=1.117]\n",
      "\t\twish -> to [penwidth=0.613]\n",
      "\t\toh -> my [penwidth=0.613]\n",
      "\t\tmy -> god [penwidth=0.613]\n",
      "\t\tgod -> thank [penwidth=0.613]\n",
      "\t\t\"it's\" -> a [penwidth=0.491]\n",
      "\t\twell -> \"i'd\" [penwidth=0.491]\n",
      "\t\tjust -> want [penwidth=0.491]\n",
      "\t\tladies -> and [penwidth=0.491]\n",
      "\t\tand -> gentlemen [penwidth=0.491]\n",
      "\t\ta -> great [penwidth=0.491]\n",
      "\t\tgreat -> honor [penwidth=0.491]\n",
      "\t\thonor -> to [penwidth=0.491]\n",
      "\t\t\"we'd\" -> like [penwidth=0.491]\n",
      "\trankdir=LR\n",
      "\tSTART [color=pink shape=rect]\n",
      "\trankdir=LR\n",
      "\tSTART [backcolor=pink shape=rect]\n",
      "\trankdir=LR\n",
      "\tSTART [background=pink shape=rect]\n",
      "\trankdir=LR\n",
      "\tSTART [bgcolor=pink shape=rect]\n",
      "\trankdir=LR\n",
      "\tSTART [fillcolor=pink shape=rect]\n",
      "\trankdir=LR\n",
      "\tSTART [fillcolor=pink shape=rect style=filled]\n",
      "\trankdir=LR\n",
      "\tSTART [fillcolor=lightgray shape=rect style=filled]\n",
      "}\n"
     ]
    }
   ],
   "source": [
    "G.attr(rankdir='LR')\n",
    "G.node('START', shape='rect', fillcolor='lightgray', style='filled')\n",
    "print(G.source)"
   ]
  },
  {
   "cell_type": "code",
   "execution_count": 52,
   "metadata": {
    "collapsed": false
   },
   "outputs": [
    {
     "data": {
      "text/plain": [
       "'first_five_words.png.pdf'"
      ]
     },
     "execution_count": 52,
     "metadata": {},
     "output_type": "execute_result"
    }
   ],
   "source": [
    "G.render('first_five_words.png')"
   ]
  },
  {
   "cell_type": "code",
   "execution_count": 205,
   "metadata": {
    "collapsed": false
   },
   "outputs": [
    {
     "data": {
      "text/plain": [
       "[(None, 66),\n",
       " (\"i'd like to thank the\", 15),\n",
       " ('thank you thank you very', 11),\n",
       " ('i would like to thank', 9),\n",
       " ('thank you to the academy', 7),\n",
       " ('thank you so much to', 7),\n",
       " ('thank you all very much', 7),\n",
       " ('i want to thank the', 7),\n",
       " ('thank you very much i', 6),\n",
       " ('thank you thank you so', 6),\n",
       " ('thank you very much to', 5),\n",
       " ('thank you very much thank', 5),\n",
       " ('i wish to thank the', 4),\n",
       " ('thank you so much this', 4),\n",
       " ('thank you very much this', 4),\n",
       " ('oh my god thank you', 4),\n",
       " (\"thank you very much i'm\", 4),\n",
       " ('thank you thank you thank', 4),\n",
       " ('i want to thank all', 3),\n",
       " (\"thank you very much it's\", 3),\n",
       " ('thank you so much i', 3),\n",
       " (\"well i'd like to thank\", 3),\n",
       " ('thank you very much for', 3),\n",
       " ('i just want to say', 3),\n",
       " ('thank you thank you all', 3),\n",
       " ('thank you ladies and gentlemen', 3),\n",
       " ('thank you very much members', 3),\n",
       " (\"it's a great honor to\", 3),\n",
       " ('thank you so much members', 3),\n",
       " ('thank you so much thank', 3),\n",
       " (\"we'd like to thank the\", 3),\n",
       " ('ladies and gentlemen of the', 2),\n",
       " ('thank you very much the', 2),\n",
       " (\"well first of all i'd\", 2),\n",
       " (\"thank you i'd like to\", 2),\n",
       " ('we would like to thank', 2),\n",
       " ('thank you academy members and', 2),\n",
       " ('thank you and thank you', 2),\n",
       " (\"i'd like to thank you\", 2),\n",
       " (\"i'd like to thank a\", 2),\n",
       " (\"i'd like to say thank\", 2),\n",
       " ('wow thank you thank you', 2),\n",
       " ('thank you very much ladies', 2),\n",
       " ('thank you thank you to', 2),\n",
       " ('wow i want to thank', 2),\n",
       " ('thank you very much indeed', 2),\n",
       " ('thank you academy thank you', 2),\n",
       " ('thank you on behalf of', 2),\n",
       " ('ladies and gentlemen members of', 2),\n",
       " ('thank you this is a', 2)]"
      ]
     },
     "execution_count": 205,
     "metadata": {},
     "output_type": "execute_result"
    }
   ],
   "source": [
    "Counter(first_5_words).most_common(50)"
   ]
  },
  {
   "cell_type": "code",
   "execution_count": null,
   "metadata": {
    "collapsed": true
   },
   "outputs": [],
   "source": []
  }
 ],
 "metadata": {
  "kernelspec": {
   "display_name": "Python 3",
   "language": "python",
   "name": "python3"
  },
  "language_info": {
   "codemirror_mode": {
    "name": "ipython",
    "version": 3
   },
   "file_extension": ".py",
   "mimetype": "text/x-python",
   "name": "python",
   "nbconvert_exporter": "python",
   "pygments_lexer": "ipython3",
   "version": "3.6.0"
  }
 },
 "nbformat": 4,
 "nbformat_minor": 2
}
